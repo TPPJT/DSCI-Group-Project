{
 "cells": [
  {
   "cell_type": "code",
   "execution_count": 1,
   "id": "3a61b35f",
   "metadata": {
    "tags": []
   },
   "outputs": [
    {
     "name": "stderr",
     "output_type": "stream",
     "text": [
      "── \u001b[1mAttaching packages\u001b[22m ─────────────────────────────────────── tidyverse 1.3.1 ──\n",
      "\n",
      "\u001b[32m✔\u001b[39m \u001b[34mggplot2\u001b[39m 3.3.6     \u001b[32m✔\u001b[39m \u001b[34mpurrr  \u001b[39m 0.3.4\n",
      "\u001b[32m✔\u001b[39m \u001b[34mtibble \u001b[39m 3.1.7     \u001b[32m✔\u001b[39m \u001b[34mdplyr  \u001b[39m 1.0.9\n",
      "\u001b[32m✔\u001b[39m \u001b[34mtidyr  \u001b[39m 1.2.0     \u001b[32m✔\u001b[39m \u001b[34mstringr\u001b[39m 1.4.0\n",
      "\u001b[32m✔\u001b[39m \u001b[34mreadr  \u001b[39m 2.1.2     \u001b[32m✔\u001b[39m \u001b[34mforcats\u001b[39m 0.5.1\n",
      "\n",
      "── \u001b[1mConflicts\u001b[22m ────────────────────────────────────────── tidyverse_conflicts() ──\n",
      "\u001b[31m✖\u001b[39m \u001b[34mdplyr\u001b[39m::\u001b[32mfilter()\u001b[39m masks \u001b[34mstats\u001b[39m::filter()\n",
      "\u001b[31m✖\u001b[39m \u001b[34mdplyr\u001b[39m::\u001b[32mlag()\u001b[39m    masks \u001b[34mstats\u001b[39m::lag()\n",
      "\n",
      "── \u001b[1mAttaching packages\u001b[22m ────────────────────────────────────── tidymodels 1.0.0 ──\n",
      "\n",
      "\u001b[32m✔\u001b[39m \u001b[34mbroom       \u001b[39m 1.0.0     \u001b[32m✔\u001b[39m \u001b[34mrsample     \u001b[39m 1.0.0\n",
      "\u001b[32m✔\u001b[39m \u001b[34mdials       \u001b[39m 1.0.0     \u001b[32m✔\u001b[39m \u001b[34mtune        \u001b[39m 1.0.0\n",
      "\u001b[32m✔\u001b[39m \u001b[34minfer       \u001b[39m 1.0.2     \u001b[32m✔\u001b[39m \u001b[34mworkflows   \u001b[39m 1.0.0\n",
      "\u001b[32m✔\u001b[39m \u001b[34mmodeldata   \u001b[39m 1.0.0     \u001b[32m✔\u001b[39m \u001b[34mworkflowsets\u001b[39m 1.0.0\n",
      "\u001b[32m✔\u001b[39m \u001b[34mparsnip     \u001b[39m 1.0.0     \u001b[32m✔\u001b[39m \u001b[34myardstick   \u001b[39m 1.0.0\n",
      "\u001b[32m✔\u001b[39m \u001b[34mrecipes     \u001b[39m 1.0.1     \n",
      "\n",
      "── \u001b[1mConflicts\u001b[22m ───────────────────────────────────────── tidymodels_conflicts() ──\n",
      "\u001b[31m✖\u001b[39m \u001b[34mscales\u001b[39m::\u001b[32mdiscard()\u001b[39m masks \u001b[34mpurrr\u001b[39m::discard()\n",
      "\u001b[31m✖\u001b[39m \u001b[34mdplyr\u001b[39m::\u001b[32mfilter()\u001b[39m   masks \u001b[34mstats\u001b[39m::filter()\n",
      "\u001b[31m✖\u001b[39m \u001b[34mrecipes\u001b[39m::\u001b[32mfixed()\u001b[39m  masks \u001b[34mstringr\u001b[39m::fixed()\n",
      "\u001b[31m✖\u001b[39m \u001b[34mdplyr\u001b[39m::\u001b[32mlag()\u001b[39m      masks \u001b[34mstats\u001b[39m::lag()\n",
      "\u001b[31m✖\u001b[39m \u001b[34myardstick\u001b[39m::\u001b[32mspec()\u001b[39m masks \u001b[34mreadr\u001b[39m::spec()\n",
      "\u001b[31m✖\u001b[39m \u001b[34mrecipes\u001b[39m::\u001b[32mstep()\u001b[39m   masks \u001b[34mstats\u001b[39m::step()\n",
      "\u001b[34m•\u001b[39m Learn how to get started at \u001b[32mhttps://www.tidymodels.org/start/\u001b[39m\n",
      "\n",
      "Registered S3 method overwritten by 'GGally':\n",
      "  method from   \n",
      "  +.gg   ggplot2\n",
      "\n"
     ]
    }
   ],
   "source": [
    "library(tidyverse)\n",
    "library(repr)\n",
    "library(tidymodels)\n",
    "library(readxl)\n",
    "library(dplyr)\n",
    "library(GGally)"
   ]
  },
  {
   "cell_type": "markdown",
   "id": "2cc8cb4f",
   "metadata": {},
   "source": [
    "# Predicting Knowledge Level of Students"
   ]
  },
  {
   "cell_type": "markdown",
   "id": "98c3c893",
   "metadata": {},
   "source": [
    "### Introduction"
   ]
  },
  {
   "cell_type": "markdown",
   "id": "e5106f1c",
   "metadata": {},
   "source": [
    "User modeling involves creating an imitation of the conceptual understanding of a user, which can be utilized to improve the customization and system interfaces to fit a user’s needs. Observations of users’ behavior can be used to train, then we will be able to form a model that is able to predict future actions. This serves as a cheaper and more efficient alternative to user testing, as it doesn't require human's to do the work. In this project, we will start with the foundation of user modelling, recognizing knowledge levels of peoples. The question we are trying to solve is if we can create an accurate and reliable classification model to predict peoples' knowledge level on a certain topic using attributes relating to the study that might affect the knowledge level.  \n",
    "\n",
    "In this particular user model, the dataset we are using is obtained from Ph.D. Thesis, it is on the students' knowledge status about Electrical DC Machines. The dataset includes five attributes, STG (The degree of study time for goal object materials), SCG (The degree of repetition number of user for goal object materials), STR (The degree of study time of user for related objects with goal object), LPR (The exam performance of user for related objects with goal object), and PEG (The exam performance of user for goal objects). "
   ]
  },
  {
   "cell_type": "markdown",
   "id": "687ce06b-4eee-420e-9de3-ad91dacbe979",
   "metadata": {},
   "source": [
    "### Methods and Results\n",
    "\n",
    "The dataset we used is the “User Knowledge” Dataset"
   ]
  },
  {
   "cell_type": "markdown",
   "id": "d26785bc-f16a-44c9-8afe-98ff75302b6a",
   "metadata": {},
   "source": [
    "The dataset is first downloaded. Since the dataset has already been split into training and testing sheets for us, we will read both sheets."
   ]
  },
  {
   "cell_type": "code",
   "execution_count": 2,
   "id": "18185dd0",
   "metadata": {},
   "outputs": [
    {
     "name": "stderr",
     "output_type": "stream",
     "text": [
      "\u001b[1m\u001b[22mNew names:\n",
      "\u001b[36m•\u001b[39m `` -> `...7`\n",
      "\u001b[36m•\u001b[39m `` -> `...8`\n",
      "\u001b[1m\u001b[22mNew names:\n",
      "\u001b[36m•\u001b[39m `` -> `...7`\n",
      "\u001b[36m•\u001b[39m `` -> `...8`\n"
     ]
    }
   ],
   "source": [
    "download.file(\"https://archive.ics.uci.edu/ml/machine-learning-databases/00257/Data_User_Modeling_Dataset_Hamdi%20Tolga%20KAHRAMAN.xls\", destfile = \"dataset.xls\")\n",
    "set.seed(2022)\n",
    "training_original <- read_excel(\"dataset.xls\", sheet = 2)\n",
    "testing_original <- read_excel(\"dataset.xls\", sheet = 3)"
   ]
  },
  {
   "cell_type": "markdown",
   "id": "16fe4505-bd23-4d9e-928d-97e87e5292fc",
   "metadata": {},
   "source": [
    "However, we need the right ratio of observations of training to testing. Thus, the two sheets are then tidied and combined into one large dataset."
   ]
  },
  {
   "cell_type": "code",
   "execution_count": 3,
   "id": "4f0cc93f-32a5-47ac-862b-ba439e2060cb",
   "metadata": {},
   "outputs": [],
   "source": [
    "tidy_testing_original <- select(testing_original, STG:UNS)\n",
    "tidy_training_original <- select(training_original, STG:UNS)\n",
    "tidy_user_data_original <- bind_rows(tidy_testing_original, tidy_training_original)"
   ]
  },
  {
   "cell_type": "markdown",
   "id": "a52b5882-9463-4222-a0a3-3548ac264296",
   "metadata": {},
   "source": [
    "We will take a brief look at the data distribution."
   ]
  },
  {
   "cell_type": "code",
   "execution_count": 17,
   "id": "79edfdd6-1c90-4677-9c2a-4b6cf26e6119",
   "metadata": {},
   "outputs": [
    {
     "data": {
      "image/png": "[encoded data removed]",
      "text/plain": [
       "plot without title"
      ]
     },
     "metadata": {
      "image/png": {
       "height": 480,
       "width": 480
      }
     },
     "output_type": "display_data"
    }
   ],
   "source": [
    "user_data_original_plot <- tidy_user_data_original |>\n",
    "    ggplot(aes(x=UNS,colour=UNS,fill=UNS)) +\n",
    "    geom_bar()+\n",
    "    ggtitle(\"User Knowledge Level Counts\")+\n",
    "    theme(text=element_text(size=20))\n",
    "user_data_original_plot"
   ]
  },
  {
   "cell_type": "markdown",
   "id": "3fb80815-5e22-4c44-94e3-b51357ec6929",
   "metadata": {},
   "source": [
    "From the bar graph we see that there are two knowledge levels called \"very low\", and so we combine them. Also, we use the as_factor function to turn UNS(the user knowledge level) into a factor for the confusion matrix later on."
   ]
  },
  {
   "cell_type": "code",
   "execution_count": 5,
   "id": "294a9108-7538-4ba3-9aa8-4f5145beb816",
   "metadata": {},
   "outputs": [],
   "source": [
    "df1 <- tidy_user_data_original |>\n",
    "    filter(UNS == \"very_low\") |>\n",
    "    mutate(UNS = \"Very Low\")\n",
    "df2 <- tidy_user_data_original |>\n",
    "    filter(UNS != \"very_low\")\n",
    "user_data <- bind_rows(df1, df2)\n",
    "\n",
    "user_data <- mutate(user_data, UNS = as.factor(UNS))"
   ]
  },
  {
   "cell_type": "markdown",
   "id": "5450243b-2a2b-4700-a956-97595e8cca4d",
   "metadata": {},
   "source": [
    "We split the data into training and testing datasets oursevles, with a proprotion of 0.75 and evenly distributed UNS knowledge levels between the two datasets."
   ]
  },
  {
   "cell_type": "code",
   "execution_count": 6,
   "id": "dd89302c-ce3f-46f9-ac3f-aa608c66237d",
   "metadata": {},
   "outputs": [
    {
     "data": {
      "text/html": [
       "<table class=\"dataframe\">\n",
       "<caption>A tibble: 6 × 6</caption>\n",
       "<thead>\n",
       "\t<tr><th scope=col>STG</th><th scope=col>SCG</th><th scope=col>STR</th><th scope=col>LPR</th><th scope=col>PEG</th><th scope=col>UNS</th></tr>\n",
       "\t<tr><th scope=col>&lt;dbl&gt;</th><th scope=col>&lt;dbl&gt;</th><th scope=col>&lt;dbl&gt;</th><th scope=col>&lt;dbl&gt;</th><th scope=col>&lt;dbl&gt;</th><th scope=col>&lt;fct&gt;</th></tr>\n",
       "</thead>\n",
       "<tbody>\n",
       "\t<tr><td>0.240</td><td>0.580</td><td>0.76</td><td>0.80</td><td>0.28</td><td>Middle</td></tr>\n",
       "\t<tr><td>0.200</td><td>0.490</td><td>0.60</td><td>0.20</td><td>0.78</td><td>High  </td></tr>\n",
       "\t<tr><td>0.475</td><td>0.320</td><td>0.79</td><td>0.31</td><td>0.54</td><td>Middle</td></tr>\n",
       "\t<tr><td>0.365</td><td>0.680</td><td>0.10</td><td>0.63</td><td>0.18</td><td>Low   </td></tr>\n",
       "\t<tr><td>0.120</td><td>0.245</td><td>0.75</td><td>0.31</td><td>0.59</td><td>Middle</td></tr>\n",
       "\t<tr><td>0.290</td><td>0.300</td><td>0.56</td><td>0.25</td><td>0.67</td><td>Middle</td></tr>\n",
       "</tbody>\n",
       "</table>\n"
      ],
      "text/latex": [
       "A tibble: 6 × 6\n",
       "\\begin{tabular}{llllll}\n",
       " STG & SCG & STR & LPR & PEG & UNS\\\\\n",
       " <dbl> & <dbl> & <dbl> & <dbl> & <dbl> & <fct>\\\\\n",
       "\\hline\n",
       "\t 0.240 & 0.580 & 0.76 & 0.80 & 0.28 & Middle\\\\\n",
       "\t 0.200 & 0.490 & 0.60 & 0.20 & 0.78 & High  \\\\\n",
       "\t 0.475 & 0.320 & 0.79 & 0.31 & 0.54 & Middle\\\\\n",
       "\t 0.365 & 0.680 & 0.10 & 0.63 & 0.18 & Low   \\\\\n",
       "\t 0.120 & 0.245 & 0.75 & 0.31 & 0.59 & Middle\\\\\n",
       "\t 0.290 & 0.300 & 0.56 & 0.25 & 0.67 & Middle\\\\\n",
       "\\end{tabular}\n"
      ],
      "text/markdown": [
       "\n",
       "A tibble: 6 × 6\n",
       "\n",
       "| STG &lt;dbl&gt; | SCG &lt;dbl&gt; | STR &lt;dbl&gt; | LPR &lt;dbl&gt; | PEG &lt;dbl&gt; | UNS &lt;fct&gt; |\n",
       "|---|---|---|---|---|---|\n",
       "| 0.240 | 0.580 | 0.76 | 0.80 | 0.28 | Middle |\n",
       "| 0.200 | 0.490 | 0.60 | 0.20 | 0.78 | High   |\n",
       "| 0.475 | 0.320 | 0.79 | 0.31 | 0.54 | Middle |\n",
       "| 0.365 | 0.680 | 0.10 | 0.63 | 0.18 | Low    |\n",
       "| 0.120 | 0.245 | 0.75 | 0.31 | 0.59 | Middle |\n",
       "| 0.290 | 0.300 | 0.56 | 0.25 | 0.67 | Middle |\n",
       "\n"
      ],
      "text/plain": [
       "  STG   SCG   STR  LPR  PEG  UNS   \n",
       "1 0.240 0.580 0.76 0.80 0.28 Middle\n",
       "2 0.200 0.490 0.60 0.20 0.78 High  \n",
       "3 0.475 0.320 0.79 0.31 0.54 Middle\n",
       "4 0.365 0.680 0.10 0.63 0.18 Low   \n",
       "5 0.120 0.245 0.75 0.31 0.59 Middle\n",
       "6 0.290 0.300 0.56 0.25 0.67 Middle"
      ]
     },
     "metadata": {},
     "output_type": "display_data"
    },
    {
     "data": {
      "text/html": [
       "<table class=\"dataframe\">\n",
       "<caption>A tibble: 6 × 6</caption>\n",
       "<thead>\n",
       "\t<tr><th scope=col>STG</th><th scope=col>SCG</th><th scope=col>STR</th><th scope=col>LPR</th><th scope=col>PEG</th><th scope=col>UNS</th></tr>\n",
       "\t<tr><th scope=col>&lt;dbl&gt;</th><th scope=col>&lt;dbl&gt;</th><th scope=col>&lt;dbl&gt;</th><th scope=col>&lt;dbl&gt;</th><th scope=col>&lt;dbl&gt;</th><th scope=col>&lt;fct&gt;</th></tr>\n",
       "</thead>\n",
       "<tbody>\n",
       "\t<tr><td>0.150</td><td>0.020</td><td>0.34</td><td>0.40</td><td>0.01</td><td>Very Low</td></tr>\n",
       "\t<tr><td>0.290</td><td>0.150</td><td>0.33</td><td>0.66</td><td>0.08</td><td>Very Low</td></tr>\n",
       "\t<tr><td>0.251</td><td>0.265</td><td>0.57</td><td>0.60</td><td>0.09</td><td>Very Low</td></tr>\n",
       "\t<tr><td>0.265</td><td>0.600</td><td>0.28</td><td>0.66</td><td>0.07</td><td>Very Low</td></tr>\n",
       "\t<tr><td>0.590</td><td>0.180</td><td>0.31</td><td>0.55</td><td>0.09</td><td>Very Low</td></tr>\n",
       "\t<tr><td>0.600</td><td>0.190</td><td>0.55</td><td>0.08</td><td>0.10</td><td>Very Low</td></tr>\n",
       "</tbody>\n",
       "</table>\n"
      ],
      "text/latex": [
       "A tibble: 6 × 6\n",
       "\\begin{tabular}{llllll}\n",
       " STG & SCG & STR & LPR & PEG & UNS\\\\\n",
       " <dbl> & <dbl> & <dbl> & <dbl> & <dbl> & <fct>\\\\\n",
       "\\hline\n",
       "\t 0.150 & 0.020 & 0.34 & 0.40 & 0.01 & Very Low\\\\\n",
       "\t 0.290 & 0.150 & 0.33 & 0.66 & 0.08 & Very Low\\\\\n",
       "\t 0.251 & 0.265 & 0.57 & 0.60 & 0.09 & Very Low\\\\\n",
       "\t 0.265 & 0.600 & 0.28 & 0.66 & 0.07 & Very Low\\\\\n",
       "\t 0.590 & 0.180 & 0.31 & 0.55 & 0.09 & Very Low\\\\\n",
       "\t 0.600 & 0.190 & 0.55 & 0.08 & 0.10 & Very Low\\\\\n",
       "\\end{tabular}\n"
      ],
      "text/markdown": [
       "\n",
       "A tibble: 6 × 6\n",
       "\n",
       "| STG &lt;dbl&gt; | SCG &lt;dbl&gt; | STR &lt;dbl&gt; | LPR &lt;dbl&gt; | PEG &lt;dbl&gt; | UNS &lt;fct&gt; |\n",
       "|---|---|---|---|---|---|\n",
       "| 0.150 | 0.020 | 0.34 | 0.40 | 0.01 | Very Low |\n",
       "| 0.290 | 0.150 | 0.33 | 0.66 | 0.08 | Very Low |\n",
       "| 0.251 | 0.265 | 0.57 | 0.60 | 0.09 | Very Low |\n",
       "| 0.265 | 0.600 | 0.28 | 0.66 | 0.07 | Very Low |\n",
       "| 0.590 | 0.180 | 0.31 | 0.55 | 0.09 | Very Low |\n",
       "| 0.600 | 0.190 | 0.55 | 0.08 | 0.10 | Very Low |\n",
       "\n"
      ],
      "text/plain": [
       "  STG   SCG   STR  LPR  PEG  UNS     \n",
       "1 0.150 0.020 0.34 0.40 0.01 Very Low\n",
       "2 0.290 0.150 0.33 0.66 0.08 Very Low\n",
       "3 0.251 0.265 0.57 0.60 0.09 Very Low\n",
       "4 0.265 0.600 0.28 0.66 0.07 Very Low\n",
       "5 0.590 0.180 0.31 0.55 0.09 Very Low\n",
       "6 0.600 0.190 0.55 0.08 0.10 Very Low"
      ]
     },
     "metadata": {},
     "output_type": "display_data"
    }
   ],
   "source": [
    "set.seed(2022)\n",
    "user_split <- initial_split(user_data, prop=0.75, stata = UNS)\n",
    "training <- training(user_split)\n",
    "testing <- testing(user_split)\n",
    "head(training)\n",
    "head(testing)"
   ]
  },
  {
   "cell_type": "markdown",
   "id": "e75bc150-4822-4d05-ad92-6bc91961d7d9",
   "metadata": {},
   "source": [
    "Testing and Training Dataset \n"
   ]
  },
  {
   "cell_type": "markdown",
   "id": "ba76d89b-ab2d-4aef-99d7-c35c3a6f5da2",
   "metadata": {},
   "source": [
    "A model specification and 5-fold cross validation object are made in preparation for cross validation."
   ]
  },
  {
   "cell_type": "code",
   "execution_count": 7,
   "id": "3cfd1828-9f78-4a85-81ba-f65efe26569c",
   "metadata": {},
   "outputs": [],
   "source": [
    "set.seed(2022)\n",
    "\n",
    "knn_spec_cross <- nearest_neighbor(weight_func = \"rectangular\", neighbors = tune()) |>\n",
    "     set_engine(\"kknn\") |>\n",
    "     set_mode(\"classification\")\n",
    "\n",
    "user_vfold <- vfold_cv(training, v = 5, strata = UNS)"
   ]
  },
  {
   "cell_type": "markdown",
   "id": "045f7faf-b289-4855-972b-192d185866b1",
   "metadata": {},
   "source": [
    "However, little is known about the meaning of the predictors and which predictors to use. Thus, forward selection is utilized to determine the best predictors to use in our classification model by testing out which combination of predictors will produce the highest accuracy with k=10 neighbours classification."
   ]
  },
  {
   "cell_type": "code",
   "execution_count": 8,
   "id": "3f854d70-5714-4b6f-b517-8cf6ed387edd",
   "metadata": {},
   "outputs": [
    {
     "data": {
      "text/html": [
       "<table class=\"dataframe\">\n",
       "<caption>A tibble: 5 × 3</caption>\n",
       "<thead>\n",
       "\t<tr><th scope=col>size</th><th scope=col>model_string</th><th scope=col>accuracy</th></tr>\n",
       "\t<tr><th scope=col>&lt;int&gt;</th><th scope=col>&lt;chr&gt;</th><th scope=col>&lt;dbl&gt;</th></tr>\n",
       "</thead>\n",
       "<tbody>\n",
       "\t<tr><td>1</td><td>UNS ~ PEG                </td><td>0.8446934</td></tr>\n",
       "\t<tr><td>2</td><td>UNS ~ PEG+LPR            </td><td>0.9669836</td></tr>\n",
       "\t<tr><td>3</td><td>UNS ~ PEG+LPR+SCG        </td><td>0.9435843</td></tr>\n",
       "\t<tr><td>4</td><td>UNS ~ PEG+LPR+SCG+STG    </td><td>0.9107847</td></tr>\n",
       "\t<tr><td>5</td><td>UNS ~ PEG+LPR+SCG+STG+STR</td><td>0.8441353</td></tr>\n",
       "</tbody>\n",
       "</table>\n"
      ],
      "text/latex": [
       "A tibble: 5 × 3\n",
       "\\begin{tabular}{lll}\n",
       " size & model\\_string & accuracy\\\\\n",
       " <int> & <chr> & <dbl>\\\\\n",
       "\\hline\n",
       "\t 1 & UNS \\textasciitilde{} PEG                 & 0.8446934\\\\\n",
       "\t 2 & UNS \\textasciitilde{} PEG+LPR             & 0.9669836\\\\\n",
       "\t 3 & UNS \\textasciitilde{} PEG+LPR+SCG         & 0.9435843\\\\\n",
       "\t 4 & UNS \\textasciitilde{} PEG+LPR+SCG+STG     & 0.9107847\\\\\n",
       "\t 5 & UNS \\textasciitilde{} PEG+LPR+SCG+STG+STR & 0.8441353\\\\\n",
       "\\end{tabular}\n"
      ],
      "text/markdown": [
       "\n",
       "A tibble: 5 × 3\n",
       "\n",
       "| size &lt;int&gt; | model_string &lt;chr&gt; | accuracy &lt;dbl&gt; |\n",
       "|---|---|---|\n",
       "| 1 | UNS ~ PEG                 | 0.8446934 |\n",
       "| 2 | UNS ~ PEG+LPR             | 0.9669836 |\n",
       "| 3 | UNS ~ PEG+LPR+SCG         | 0.9435843 |\n",
       "| 4 | UNS ~ PEG+LPR+SCG+STG     | 0.9107847 |\n",
       "| 5 | UNS ~ PEG+LPR+SCG+STG+STR | 0.8441353 |\n",
       "\n"
      ],
      "text/plain": [
       "  size model_string              accuracy \n",
       "1 1    UNS ~ PEG                 0.8446934\n",
       "2 2    UNS ~ PEG+LPR             0.9669836\n",
       "3 3    UNS ~ PEG+LPR+SCG         0.9435843\n",
       "4 4    UNS ~ PEG+LPR+SCG+STG     0.9107847\n",
       "5 5    UNS ~ PEG+LPR+SCG+STG+STR 0.8441353"
      ]
     },
     "metadata": {},
     "output_type": "display_data"
    }
   ],
   "source": [
    "set.seed(2022)\n",
    "names <- colnames(training |> select (-UNS))\n",
    "\n",
    "# create an empty tibble to store the results\n",
    "accuracies <- tibble(size = integer(), \n",
    "                     model_string = character(), \n",
    "                     accuracy = numeric())\n",
    "\n",
    "# store the total number of predictors\n",
    "n_total <- length(names)\n",
    "\n",
    "# stores selected predictors\n",
    "selected <- c()\n",
    "\n",
    "# for every size from 1 to the total number of predictors\n",
    "for (i in 1:n_total) {\n",
    "    # for every predictor still not added yet\n",
    "    accs <- list()\n",
    "    models <- list()\n",
    "    for (j in 1:length(names)) {\n",
    "        # create a model string for this combination of predictors\n",
    "        preds_new <- c(selected, names[[j]])\n",
    "        model_string <- paste(\"UNS\", \"~\", paste(preds_new, collapse=\"+\"))\n",
    "\n",
    "        # create a recipe from the model string\n",
    "        user_recipe_0 <- recipe(as.formula(model_string), \n",
    "                                data = training) |>\n",
    "                          step_scale(all_predictors()) |>\n",
    "                          step_center(all_predictors())\n",
    "\n",
    "        # tune the KNN classifier with these predictors, \n",
    "        # and collect the accuracy for the best K\n",
    "        acc <- workflow() |>\n",
    "          add_recipe(user_recipe_0) |>\n",
    "          add_model(knn_spec_cross) |>\n",
    "          tune_grid(resamples = user_vfold, grid = 10) |>\n",
    "          collect_metrics() |>\n",
    "          filter(.metric == \"accuracy\") |>\n",
    "          summarize(mx = max(mean))\n",
    "        acc <- acc$mx |> unlist()\n",
    "\n",
    "        # add this result to the dataframe\n",
    "        accs[[j]] <- acc\n",
    "        models[[j]] <- model_string\n",
    "    }\n",
    "    jstar <- which.max(unlist(accs))\n",
    "    accuracies <- accuracies |> \n",
    "      add_row(size = i, \n",
    "              model_string = models[[jstar]], \n",
    "              accuracy = accs[[jstar]])\n",
    "    selected <- c(selected, names[[jstar]])\n",
    "     names <- names[-jstar]}\n",
    "accuracies"
   ]
  },
  {
   "cell_type": "markdown",
   "id": "6cb586ee-c845-42ff-b12a-ea482aa1ba34",
   "metadata": {},
   "source": [
    "Accuracies of Different Combination of Predictors"
   ]
  },
  {
   "cell_type": "markdown",
   "id": "7b98e7c7-c3a2-4528-9ebb-c4e54208c81d",
   "metadata": {},
   "source": [
    "The PEG and LPR predictors have the highest accuracies, and thus they will be used in the user knowledge recipe.\n",
    "\n",
    "Cross Validation will then be used to determine the best k value (number of neighbours) for our classification model, with the results being graphed."
   ]
  },
  {
   "cell_type": "code",
   "execution_count": 18,
   "id": "061211c6",
   "metadata": {},
   "outputs": [
    {
     "data": {
      "text/plain": [
       "Recipe\n",
       "\n",
       "Inputs:\n",
       "\n",
       "      role #variables\n",
       "   outcome          1\n",
       " predictor          2\n",
       "\n",
       "Operations:\n",
       "\n",
       "Scaling for all_predictors()\n",
       "Centering for all_predictors()"
      ]
     },
     "metadata": {},
     "output_type": "display_data"
    },
    {
     "data": {
      "image/png": "[encoded data removed]",
      "text/plain": [
       "plot without title"
      ]
     },
     "metadata": {
      "image/png": {
       "height": 480,
       "width": 480
      }
     },
     "output_type": "display_data"
    }
   ],
   "source": [
    "set.seed(2022)\n",
    "user_knowledge_recipe <- recipe(UNS ~ PEG + LPR, data = training) |>\n",
    "    step_scale(all_predictors()) |>\n",
    "    step_center(all_predictors())\n",
    "user_knowledge_recipe\n",
    "\n",
    "gridvals <- tibble(neighbors = seq(1,50))\n",
    "\n",
    "\n",
    "knn_results <- workflow() |>\n",
    "    add_recipe(user_knowledge_recipe) |>\n",
    "    add_model(knn_spec_cross) |>\n",
    "    tune_grid(resamples = user_vfold, grid = gridvals) |>\n",
    "    collect_metrics()\n",
    "\n",
    "accuracies <- knn_results |> \n",
    "    filter(.metric == \"accuracy\")\n",
    "options(repr.plot.height = 8, repr.plot.width = 8)\n",
    "accuracy_versus_k <- ggplot(accuracies, aes(x = neighbors, y = mean))+\n",
    "    geom_point() +\n",
    "    geom_line() +\n",
    "    labs(x = \"Neighbors\", y = \"Accuracy Estimate\",title = \"Accuracy vs Number of neighbours\") +\n",
    "    theme(text=element_text(size=20))\n",
    "accuracy_versus_k"
   ]
  },
  {
   "cell_type": "markdown",
   "id": "4edc0cdf",
   "metadata": {
    "tags": []
   },
   "source": [
    "From this graph, we can see that the smallest k value that produces the highest accuracy is k=5, which will be used in our classification model."
   ]
  },
  {
   "cell_type": "code",
   "execution_count": 10,
   "id": "bade67a7-d561-435f-ad78-30a67904936d",
   "metadata": {},
   "outputs": [],
   "source": [
    "knn_spec_5 <- nearest_neighbor(weight_func = \"rectangular\", neighbors = 5) |>\n",
    "    set_engine(\"kknn\") |>\n",
    "    set_mode(\"classification\")\n",
    "user_knowledge_fit <- workflow() |>\n",
    "    add_recipe(user_knowledge_recipe) |>\n",
    "    add_model(knn_spec_5) |>\n",
    "    fit(data = training)"
   ]
  },
  {
   "cell_type": "markdown",
   "id": "0cff1401-9a73-4204-b36b-a13769f485b0",
   "metadata": {},
   "source": [
    "Now that our classification model is made, it is then used to predict the UNS of the testing dataset. The accuracy and confusion matrix are then found."
   ]
  },
  {
   "cell_type": "code",
   "execution_count": 11,
   "id": "57cb12a1-3fa0-4953-a1a9-b33f8d8d1074",
   "metadata": {},
   "outputs": [
    {
     "data": {
      "text/html": [
       "<table class=\"dataframe\">\n",
       "<caption>A tibble: 1 × 3</caption>\n",
       "<thead>\n",
       "\t<tr><th scope=col>.metric</th><th scope=col>.estimator</th><th scope=col>.estimate</th></tr>\n",
       "\t<tr><th scope=col>&lt;chr&gt;</th><th scope=col>&lt;chr&gt;</th><th scope=col>&lt;dbl&gt;</th></tr>\n",
       "</thead>\n",
       "<tbody>\n",
       "\t<tr><td>accuracy</td><td>multiclass</td><td>0.9405941</td></tr>\n",
       "</tbody>\n",
       "</table>\n"
      ],
      "text/latex": [
       "A tibble: 1 × 3\n",
       "\\begin{tabular}{lll}\n",
       " .metric & .estimator & .estimate\\\\\n",
       " <chr> & <chr> & <dbl>\\\\\n",
       "\\hline\n",
       "\t accuracy & multiclass & 0.9405941\\\\\n",
       "\\end{tabular}\n"
      ],
      "text/markdown": [
       "\n",
       "A tibble: 1 × 3\n",
       "\n",
       "| .metric &lt;chr&gt; | .estimator &lt;chr&gt; | .estimate &lt;dbl&gt; |\n",
       "|---|---|---|\n",
       "| accuracy | multiclass | 0.9405941 |\n",
       "\n"
      ],
      "text/plain": [
       "  .metric  .estimator .estimate\n",
       "1 accuracy multiclass 0.9405941"
      ]
     },
     "metadata": {},
     "output_type": "display_data"
    }
   ],
   "source": [
    "user_knowledge_test_predictions <- predict(user_knowledge_fit, testing) |>\n",
    "    bind_cols(testing)\n",
    "user_knowledge_test_predictions |>\n",
    "    metrics(truth = UNS, estimate = .pred_class)|>\n",
    "    filter(.metric == \"accuracy\")"
   ]
  },
  {
   "cell_type": "code",
   "execution_count": 12,
   "id": "bd5b712e-1b0e-4ae2-8c0e-e24ef04a3f66",
   "metadata": {},
   "outputs": [
    {
     "data": {
      "text/plain": [
       "          Truth\n",
       "Prediction High Low Middle Very Low\n",
       "  High       21   0      0        0\n",
       "  Low         0  31      2        4\n",
       "  Middle      0   0     31        0\n",
       "  Very Low    0   0      0       12"
      ]
     },
     "metadata": {},
     "output_type": "display_data"
    }
   ],
   "source": [
    "user_knowledge_mat <- user_knowledge_test_predictions |>\n",
    "    conf_mat(truth = UNS, estimate = .pred_class)\n",
    "user_knowledge_mat"
   ]
  },
  {
   "cell_type": "markdown",
   "id": "7fb5e26b-580b-4909-b8a9-e66b4f19b2e2",
   "metadata": {},
   "source": [
    "In summary, the original excel file was read and tidied. We used forward selection to select the best combination of predictors, PEG and LPR, which we then used for cross validation to find the best k value, which was 5, for our model. The classification model was constructed, which let us predict the user knowledge level of people in the testing dataset with 94% accuracy."
   ]
  },
  {
   "cell_type": "markdown",
   "id": "3f0326f4-f092-49f4-a74b-6685ea8fbeb7",
   "metadata": {},
   "source": [
    "### Discussion"
   ]
  },
  {
   "cell_type": "code",
   "execution_count": null,
   "id": "39ef1716-4d6c-4dcf-bc00-d52c41fee3d4",
   "metadata": {},
   "outputs": [],
   "source": []
  },
  {
   "cell_type": "markdown",
   "id": "79a50528-c9da-428f-a3db-a4bc15951d26",
   "metadata": {},
   "source": [
    "A few issues must be noted. Forward selection was only done with k=10 neighbours to reduce the time that the code needed. If we tested all combinations of predictors, each with 10 values of k, the code would've taken hours to run. However, since it was discovered that the best value of k was 5 instead of 10, this may have affected the accuracy of the model for the worse. Another issue is that the best predictors the forward selection had picked were PEG and LPR, which represented the exam performances goal objects and related objects with goal objects, respectively. In other words, the two exam scores were used to create the model that predicted people's knowledge level. This is problematic because the UNS user knowledge level was likely determined from the exam performance of the user, which explains why the accuracy of the model was so high. However, the methods of which the data is collected is beyond the scope of this report.\n"
   ]
  },
  {
   "cell_type": "markdown",
   "id": "a9d36586",
   "metadata": {},
   "source": [
    "Expected outcomes and significance: We expect to use STC, SCG, and PEG as predictors to predict the knowledge level of this user. When we can predict the knowledge level of a user, we can match the suitable learning objects and methods to the needs of the users/students to help them learn more effectively. This finding can allow for personalized education, allowing users to improve their academic performance and achieve their potential. This is much more efficient than one-size-fits-all systems. Future questions this project could lead to include predicting different study methods and strategies tailored to a user’s mannerisms.\n",
    " \n"
   ]
  }
 ],
 "metadata": {
  "kernelspec": {
   "display_name": "R",
   "language": "R",
   "name": "ir"
  },
  "language_info": {
   "codemirror_mode": "r",
   "file_extension": ".r",
   "mimetype": "text/x-r-source",
   "name": "R",
   "pygments_lexer": "r",
   "version": "4.1.3"
  }
 },
 "nbformat": 4,
 "nbformat_minor": 5
}
