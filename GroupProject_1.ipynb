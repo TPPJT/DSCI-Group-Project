{
 "cells": [
  {
   "cell_type": "markdown",
   "id": "85b86db7-5569-4805-9f22-73c8025217db",
   "metadata": {},
   "source": [
    "Title: The exploration of the \"User knowledge\" database"
   ]
  },
  {
   "cell_type": "code",
   "execution_count": 7,
   "id": "da19aa2f-8248-422f-9e5d-5f278f1be47d",
   "metadata": {},
   "outputs": [],
   "source": [
    "library(tidyverse)\n",
    "library(repr)\n",
    "library(tidymodels)\n",
    "library(readxl)\n",
    "library(dplyr)"
   ]
  },
  {
   "cell_type": "markdown",
   "id": "bab2f8c4-d255-4a3a-a8c4-11d47f1f404f",
   "metadata": {},
   "source": [
    "Introduction:"
   ]
  },
  {
   "cell_type": "markdown",
   "id": "b99b98b4-76c3-412a-8b0e-ded9575b7fc7",
   "metadata": {},
   "source": [
    "User modeling involves creating an imitation of the conceptual understanding of a user, which can be utilized to improve the customization and system interfaces to fit a user’s needs. This serves as a cheaper and more efficient alternative to user testing. In this particular user model, a dataset is used to predict the exam scores of users. This dataset includes five attributes, STG (The degree of study time for goal object materials), SCG (The degree of repetition number of user for goal object materials), STR (The degree of study time of user for related objects with goal object), LPR (The exam performance of user for related objects with goal object), and PEG (The exam performance of user for goal objects). We hypothesized that there is a relationship between degree of study time, repetition, exam performances and UNS (the knowledge level of the user). We will use data analysis to check if our hypothesis is correct by using STG, SCG, and PEG to predict UNS. \n",
    "The dataset we will use: “User Knowledge” Dataset.\n",
    "Training_data: 259 rows of data with the first row being the title, the five attributes (STG, SCG, STR, LPR, PEG) each contains a value between 0 and 1, the target value UNS has four classifications (very low, low, middle, high). \n",
    "Testing_data: 146 rows of data with the first row being the title, the five attributes (STG, SCG, STR, LPR, PEG) each contains a value between 0 and 1, the target value UNS has four classifications (very low, low, middle, high).\n"
   ]
  },
  {
   "cell_type": "markdown",
   "id": "836a369c-9e9e-4950-a973-85b681fac932",
   "metadata": {},
   "source": [
    "Preliminary Exploratory data analysis:\n"
   ]
  },
  {
   "cell_type": "markdown",
   "id": "05b7c3a6-ad1a-48a2-8dc6-d088f6361ae2",
   "metadata": {},
   "source": [
    "User modeling involves creating an imitation of the conceptual understanding of a user, which can be utilized to improve the customization and system interfaces to fit a user’s needs. This serves as a cheaper and more efficient alternative to user testing. In this particular user model, a dataset is used to predict the exam scores of users. This dataset includes five attributes, STG (The degree of study time for goal object materials), SCG (The degree of repetition number of user for goal object materials), STR (The degree of study time of user for related objects with goal object), LPR (The exam performance of user for related objects with goal object), and PEG (The exam performance of user for goal objects). We hypothesized that there is a relationship between degree of study time, repetition, exam performances and UNS (the knowledge level of the user). We will use data analysis to check if our hypothesis is correct by using STG, SCG, and PEG to predict UNS. \n",
    "\n",
    "The dataset we will use: “User Knowledge” Dataset\n",
    "\n",
    "Training_data: 259 rows of data with the first row being the title, the five attributes (STG, SCG, STR, LPR, PEG) each contains a value between 0 and 1, the target value UNS has four classifications (very low, low, middle, high). \n",
    "\n",
    "Testing_data: 146 rows of data with the first row being the title, the five attributes (STG, SCG, STR, LPR, PEG) each contains a value between 0 and 1, the target value UNS has four classifications (very low, low, middle, high). \n"
   ]
  },
  {
   "cell_type": "code",
   "execution_count": 13,
   "id": "f5dd63af-2a45-4abd-b082-4a59d50e6e2a",
   "metadata": {},
   "outputs": [
    {
     "name": "stderr",
     "output_type": "stream",
     "text": [
      "\u001b[1m\u001b[22mNew names:\n",
      "\u001b[36m•\u001b[39m `` -> `...7`\n",
      "\u001b[36m•\u001b[39m `` -> `...8`\n",
      "\u001b[1m\u001b[22mNew names:\n",
      "\u001b[36m•\u001b[39m `` -> `...7`\n",
      "\u001b[36m•\u001b[39m `` -> `...8`\n"
     ]
    },
    {
     "data": {
      "text/html": [
       "<table class=\"dataframe\">\n",
       "<caption>A tibble: 6 × 6</caption>\n",
       "<thead>\n",
       "\t<tr><th scope=col>STG</th><th scope=col>SCG</th><th scope=col>STR</th><th scope=col>LPR</th><th scope=col>PEG</th><th scope=col>UNS</th></tr>\n",
       "\t<tr><th scope=col>&lt;dbl&gt;</th><th scope=col>&lt;dbl&gt;</th><th scope=col>&lt;dbl&gt;</th><th scope=col>&lt;dbl&gt;</th><th scope=col>&lt;dbl&gt;</th><th scope=col>&lt;chr&gt;</th></tr>\n",
       "</thead>\n",
       "<tbody>\n",
       "\t<tr><td>0.380</td><td>0.59</td><td>0.31</td><td>0.62</td><td>0.20</td><td>Low   </td></tr>\n",
       "\t<tr><td>0.220</td><td>0.22</td><td>0.90</td><td>0.30</td><td>0.90</td><td>High  </td></tr>\n",
       "\t<tr><td>0.295</td><td>0.25</td><td>0.26</td><td>0.12</td><td>0.67</td><td>Middle</td></tr>\n",
       "\t<tr><td>0.850</td><td>0.05</td><td>0.91</td><td>0.80</td><td>0.68</td><td>High  </td></tr>\n",
       "\t<tr><td>0.495</td><td>0.82</td><td>0.67</td><td>0.01</td><td>0.93</td><td>High  </td></tr>\n",
       "\t<tr><td>0.110</td><td>0.29</td><td>0.20</td><td>0.05</td><td>0.66</td><td>Middle</td></tr>\n",
       "</tbody>\n",
       "</table>\n"
      ],
      "text/latex": [
       "A tibble: 6 × 6\n",
       "\\begin{tabular}{llllll}\n",
       " STG & SCG & STR & LPR & PEG & UNS\\\\\n",
       " <dbl> & <dbl> & <dbl> & <dbl> & <dbl> & <chr>\\\\\n",
       "\\hline\n",
       "\t 0.380 & 0.59 & 0.31 & 0.62 & 0.20 & Low   \\\\\n",
       "\t 0.220 & 0.22 & 0.90 & 0.30 & 0.90 & High  \\\\\n",
       "\t 0.295 & 0.25 & 0.26 & 0.12 & 0.67 & Middle\\\\\n",
       "\t 0.850 & 0.05 & 0.91 & 0.80 & 0.68 & High  \\\\\n",
       "\t 0.495 & 0.82 & 0.67 & 0.01 & 0.93 & High  \\\\\n",
       "\t 0.110 & 0.29 & 0.20 & 0.05 & 0.66 & Middle\\\\\n",
       "\\end{tabular}\n"
      ],
      "text/markdown": [
       "\n",
       "A tibble: 6 × 6\n",
       "\n",
       "| STG &lt;dbl&gt; | SCG &lt;dbl&gt; | STR &lt;dbl&gt; | LPR &lt;dbl&gt; | PEG &lt;dbl&gt; | UNS &lt;chr&gt; |\n",
       "|---|---|---|---|---|---|\n",
       "| 0.380 | 0.59 | 0.31 | 0.62 | 0.20 | Low    |\n",
       "| 0.220 | 0.22 | 0.90 | 0.30 | 0.90 | High   |\n",
       "| 0.295 | 0.25 | 0.26 | 0.12 | 0.67 | Middle |\n",
       "| 0.850 | 0.05 | 0.91 | 0.80 | 0.68 | High   |\n",
       "| 0.495 | 0.82 | 0.67 | 0.01 | 0.93 | High   |\n",
       "| 0.110 | 0.29 | 0.20 | 0.05 | 0.66 | Middle |\n",
       "\n"
      ],
      "text/plain": [
       "  STG   SCG  STR  LPR  PEG  UNS   \n",
       "1 0.380 0.59 0.31 0.62 0.20 Low   \n",
       "2 0.220 0.22 0.90 0.30 0.90 High  \n",
       "3 0.295 0.25 0.26 0.12 0.67 Middle\n",
       "4 0.850 0.05 0.91 0.80 0.68 High  \n",
       "5 0.495 0.82 0.67 0.01 0.93 High  \n",
       "6 0.110 0.29 0.20 0.05 0.66 Middle"
      ]
     },
     "metadata": {},
     "output_type": "display_data"
    },
    {
     "data": {
      "text/html": [
       "<table class=\"dataframe\">\n",
       "<caption>A tibble: 6 × 6</caption>\n",
       "<thead>\n",
       "\t<tr><th scope=col>STG</th><th scope=col>SCG</th><th scope=col>STR</th><th scope=col>LPR</th><th scope=col>PEG</th><th scope=col>UNS</th></tr>\n",
       "\t<tr><th scope=col>&lt;dbl&gt;</th><th scope=col>&lt;dbl&gt;</th><th scope=col>&lt;dbl&gt;</th><th scope=col>&lt;dbl&gt;</th><th scope=col>&lt;dbl&gt;</th><th scope=col>&lt;chr&gt;</th></tr>\n",
       "</thead>\n",
       "<tbody>\n",
       "\t<tr><td>0.00</td><td>0.10</td><td>0.50</td><td>0.26</td><td>0.05</td><td>Very Low</td></tr>\n",
       "\t<tr><td>0.08</td><td>0.18</td><td>0.63</td><td>0.60</td><td>0.85</td><td>High    </td></tr>\n",
       "\t<tr><td>0.12</td><td>0.12</td><td>0.75</td><td>0.68</td><td>0.15</td><td>Low     </td></tr>\n",
       "\t<tr><td>0.23</td><td>0.29</td><td>0.45</td><td>0.18</td><td>0.88</td><td>High    </td></tr>\n",
       "\t<tr><td>0.10</td><td>0.30</td><td>0.58</td><td>0.28</td><td>0.55</td><td>Middle  </td></tr>\n",
       "\t<tr><td>0.12</td><td>0.28</td><td>0.70</td><td>0.16</td><td>0.32</td><td>Low     </td></tr>\n",
       "</tbody>\n",
       "</table>\n"
      ],
      "text/latex": [
       "A tibble: 6 × 6\n",
       "\\begin{tabular}{llllll}\n",
       " STG & SCG & STR & LPR & PEG & UNS\\\\\n",
       " <dbl> & <dbl> & <dbl> & <dbl> & <dbl> & <chr>\\\\\n",
       "\\hline\n",
       "\t 0.00 & 0.10 & 0.50 & 0.26 & 0.05 & Very Low\\\\\n",
       "\t 0.08 & 0.18 & 0.63 & 0.60 & 0.85 & High    \\\\\n",
       "\t 0.12 & 0.12 & 0.75 & 0.68 & 0.15 & Low     \\\\\n",
       "\t 0.23 & 0.29 & 0.45 & 0.18 & 0.88 & High    \\\\\n",
       "\t 0.10 & 0.30 & 0.58 & 0.28 & 0.55 & Middle  \\\\\n",
       "\t 0.12 & 0.28 & 0.70 & 0.16 & 0.32 & Low     \\\\\n",
       "\\end{tabular}\n"
      ],
      "text/markdown": [
       "\n",
       "A tibble: 6 × 6\n",
       "\n",
       "| STG &lt;dbl&gt; | SCG &lt;dbl&gt; | STR &lt;dbl&gt; | LPR &lt;dbl&gt; | PEG &lt;dbl&gt; | UNS &lt;chr&gt; |\n",
       "|---|---|---|---|---|---|\n",
       "| 0.00 | 0.10 | 0.50 | 0.26 | 0.05 | Very Low |\n",
       "| 0.08 | 0.18 | 0.63 | 0.60 | 0.85 | High     |\n",
       "| 0.12 | 0.12 | 0.75 | 0.68 | 0.15 | Low      |\n",
       "| 0.23 | 0.29 | 0.45 | 0.18 | 0.88 | High     |\n",
       "| 0.10 | 0.30 | 0.58 | 0.28 | 0.55 | Middle   |\n",
       "| 0.12 | 0.28 | 0.70 | 0.16 | 0.32 | Low      |\n",
       "\n"
      ],
      "text/plain": [
       "  STG  SCG  STR  LPR  PEG  UNS     \n",
       "1 0.00 0.10 0.50 0.26 0.05 Very Low\n",
       "2 0.08 0.18 0.63 0.60 0.85 High    \n",
       "3 0.12 0.12 0.75 0.68 0.15 Low     \n",
       "4 0.23 0.29 0.45 0.18 0.88 High    \n",
       "5 0.10 0.30 0.58 0.28 0.55 Middle  \n",
       "6 0.12 0.28 0.70 0.16 0.32 Low     "
      ]
     },
     "metadata": {},
     "output_type": "display_data"
    }
   ],
   "source": [
    "download.file(\"https://archive.ics.uci.edu/ml/machine-learning-databases/00257/Data_User_Modeling_Dataset_Hamdi%20Tolga%20KAHRAMAN.xls\", destfile = \"dataset.xls\")\n",
    "\n",
    "training_original <- read_excel(\"dataset.xls\", sheet = 2)\n",
    "testing_original <- read_excel(\"dataset.xls\", sheet = 3)\n",
    "\n",
    "tidy_testing_original <- select(testing_original, STG:UNS)\n",
    "tidy_training_original <- select(training_original, STG:UNS)\n",
    "new_user_data <- bind_rows(tidy_testing_original, tidy_training_original)\n",
    "\n",
    "user_split <- initial_split(new_user_data, prop=0.75, stata = UNS)\n",
    "training <- training(user_split)\n",
    "testing <- testing(user_split)\n",
    "head(training)\n",
    "head(testing)\n",
    "\n",
    "\n"
   ]
  },
  {
   "cell_type": "markdown",
   "id": "b6df6ca3-b8d3-440d-b885-427a8658f305",
   "metadata": {
    "tags": []
   },
   "source": [
    "Methods:\n",
    "Our group will use STG, SCG, PEG, and UNS to do the data analysis. We plan to use K-nearest neighbors classification to visualize the results. STC, SCG, and PEG will be used as predictors to predict UNS."
   ]
  },
  {
   "cell_type": "markdown",
   "id": "5cddb420-9d19-4145-a4ad-bff1d140ec25",
   "metadata": {},
   "source": [
    "Cross-validation "
   ]
  },
  {
   "cell_type": "code",
   "execution_count": 14,
   "id": "f8551c8a-4ba4-4341-9208-59dd769dc2fc",
   "metadata": {},
   "outputs": [
    {
     "data": {
      "text/plain": [
       "Recipe\n",
       "\n",
       "Inputs:\n",
       "\n",
       "      role #variables\n",
       "   outcome          1\n",
       " predictor          3\n",
       "\n",
       "Operations:\n",
       "\n",
       "Scaling for all_predictors()\n",
       "Centering for all_predictors()"
      ]
     },
     "metadata": {},
     "output_type": "display_data"
    },
    {
     "data": {
      "text/html": [
       "<table class=\"dataframe\">\n",
       "<caption>A tibble: 2 × 6</caption>\n",
       "<thead>\n",
       "\t<tr><th scope=col>.metric</th><th scope=col>.estimator</th><th scope=col>mean</th><th scope=col>n</th><th scope=col>std_err</th><th scope=col>.config</th></tr>\n",
       "\t<tr><th scope=col>&lt;chr&gt;</th><th scope=col>&lt;chr&gt;</th><th scope=col>&lt;dbl&gt;</th><th scope=col>&lt;int&gt;</th><th scope=col>&lt;dbl&gt;</th><th scope=col>&lt;chr&gt;</th></tr>\n",
       "</thead>\n",
       "<tbody>\n",
       "\t<tr><td>accuracy</td><td>multiclass</td><td>0.7154839</td><td>5</td><td>0.01646549</td><td>Preprocessor1_Model1</td></tr>\n",
       "\t<tr><td>roc_auc </td><td>hand_till </td><td>0.8579124</td><td>5</td><td>0.01670144</td><td>Preprocessor1_Model1</td></tr>\n",
       "</tbody>\n",
       "</table>\n"
      ],
      "text/latex": [
       "A tibble: 2 × 6\n",
       "\\begin{tabular}{llllll}\n",
       " .metric & .estimator & mean & n & std\\_err & .config\\\\\n",
       " <chr> & <chr> & <dbl> & <int> & <dbl> & <chr>\\\\\n",
       "\\hline\n",
       "\t accuracy & multiclass & 0.7154839 & 5 & 0.01646549 & Preprocessor1\\_Model1\\\\\n",
       "\t roc\\_auc  & hand\\_till  & 0.8579124 & 5 & 0.01670144 & Preprocessor1\\_Model1\\\\\n",
       "\\end{tabular}\n"
      ],
      "text/markdown": [
       "\n",
       "A tibble: 2 × 6\n",
       "\n",
       "| .metric &lt;chr&gt; | .estimator &lt;chr&gt; | mean &lt;dbl&gt; | n &lt;int&gt; | std_err &lt;dbl&gt; | .config &lt;chr&gt; |\n",
       "|---|---|---|---|---|---|\n",
       "| accuracy | multiclass | 0.7154839 | 5 | 0.01646549 | Preprocessor1_Model1 |\n",
       "| roc_auc  | hand_till  | 0.8579124 | 5 | 0.01670144 | Preprocessor1_Model1 |\n",
       "\n"
      ],
      "text/plain": [
       "  .metric  .estimator mean      n std_err    .config             \n",
       "1 accuracy multiclass 0.7154839 5 0.01646549 Preprocessor1_Model1\n",
       "2 roc_auc  hand_till  0.8579124 5 0.01670144 Preprocessor1_Model1"
      ]
     },
     "metadata": {},
     "output_type": "display_data"
    }
   ],
   "source": [
    "user_knowledge_recipe <- recipe(UNS ~ STG + SCG + PEG, data = training) |>\n",
    "    step_scale(all_predictors()) |>\n",
    "    step_center(all_predictors())\n",
    "\n",
    "user_knowledge_recipe\n",
    "user_knowledge_vfold <- vfold_cv(training, v = 5, strata = UNS)\n",
    "\n",
    "knn_spec <- nearest_neighbor(weight_func = \"rectangular\", neighbors = 3) |>\n",
    "    set_engine(\"kknn\") |> \n",
    "    set_mode(\"classification\")\n",
    "user_knowledge_resample_fit <- workflow() |>\n",
    "    add_recipe(user_knowledge_recipe) |>\n",
    "    add_model(knn_spec) |>\n",
    "    fit_resamples(resamples = user_knowledge_vfold)\n",
    "user_knowledge_metrics <- collect_metrics(user_knowledge_resample_fit)\n",
    "user_knowledge_metrics\n"
   ]
  },
  {
   "cell_type": "markdown",
   "id": "dbecf1a3-0562-487d-a86c-358918b1f6c2",
   "metadata": {},
   "source": [
    "Parameter value choose"
   ]
  },
  {
   "cell_type": "code",
   "execution_count": 16,
   "id": "37b76842-5075-4571-b5e3-d0d4360f7284",
   "metadata": {},
   "outputs": [
    {
     "data": {
      "image/png": "[encoded data removed]",
      "text/plain": [
       "plot without title"
      ]
     },
     "metadata": {
      "image/png": {
       "height": 600,
       "width": 480
      }
     },
     "output_type": "display_data"
    }
   ],
   "source": [
    "knn_tune <- nearest_neighbor(weight_func = \"rectangular\", neighbors = tune())%>%\n",
    "set_engine(\"kknn\")%>%\n",
    "set_mode(\"classification\")\n",
    "\n",
    "knn_results <- workflow() |>\n",
    "add_recipe(user_knowledge_recipe) |>\n",
    "add_model(knn_tune) |>\n",
    "tune_grid(resamples = user_knowledge_vfold , grid = 10) |>\n",
    "collect_metrics()\n",
    "\n",
    "accuracies <- knn_results |> \n",
    "filter(.metric==\"accuracy\")\n",
    "options(repr.plot.height = 10, repr.plot.width = 8)\n",
    "accuracy_versus_k <- ggplot(accuracies, aes(x = neighbors, y = mean))+\n",
    "geom_point() +\n",
    "geom_line() +\n",
    "labs(x = \"Neighbors\", y = \"Accuracy Estimate\") +\n",
    "scale_x_continuous(breaks = seq(0, 14, by = 1)) +  \n",
    "scale_y_continuous(limits = c(0.4, 1.0)) \n",
    "accuracy_versus_k"
   ]
  },
  {
   "cell_type": "markdown",
   "id": "ef01aa7d-f69f-4c4a-bc7b-1f0a46fc2a84",
   "metadata": {},
   "source": [
    "Expected outcomes and significance: We expect to use STC, SCG, and PEG as predictors to predict the knowledge level of this user. When we can predict the knowledge level of a user, we can match the suitable learning objects and methods to the needs of the users/students to help them learn more effectively. This finding can allow for personalized education, allowing users to improve their academic performance and achieve their potential. This is much more efficient than one-size-fits-all systems. Future questions this project could lead to include predicting different study methods and strategies tailored to a user’s mannerisms.\n",
    " \n"
   ]
  },
  {
   "cell_type": "code",
   "execution_count": 30,
   "id": "83dd2882-646b-4616-98a7-0683c2c51f4c",
   "metadata": {},
   "outputs": [
    {
     "data": {
      "text/html": [
       "<style>\n",
       ".list-inline {list-style: none; margin:0; padding: 0}\n",
       ".list-inline>li {display: inline-block}\n",
       ".list-inline>li:not(:last-child)::after {content: \"\\00b7\"; padding: 0 .5ex}\n",
       "</style>\n",
       "<ol class=list-inline><li>'STG'</li><li>'SCG'</li><li>'STR'</li><li>'LPR'</li><li>'PEG'</li></ol>\n"
      ],
      "text/latex": [
       "\\begin{enumerate*}\n",
       "\\item 'STG'\n",
       "\\item 'SCG'\n",
       "\\item 'STR'\n",
       "\\item 'LPR'\n",
       "\\item 'PEG'\n",
       "\\end{enumerate*}\n"
      ],
      "text/markdown": [
       "1. 'STG'\n",
       "2. 'SCG'\n",
       "3. 'STR'\n",
       "4. 'LPR'\n",
       "5. 'PEG'\n",
       "\n",
       "\n"
      ],
      "text/plain": [
       "[1] \"STG\" \"SCG\" \"STR\" \"LPR\" \"PEG\""
      ]
     },
     "metadata": {},
     "output_type": "display_data"
    }
   ],
   "source": [
    "\n",
    "names <- colnames(training |> select(-UNS))\n",
    "names"
   ]
  },
  {
   "cell_type": "code",
   "execution_count": 37,
   "id": "1bfd596b-74b6-4788-9e13-60138235e32d",
   "metadata": {},
   "outputs": [
    {
     "ename": "ERROR",
     "evalue": "Error in names[[j]]: subscript out of bounds\n",
     "output_type": "error",
     "traceback": [
      "Error in names[[j]]: subscript out of bounds\nTraceback:\n"
     ]
    }
   ],
   "source": [
    "\n",
    "# create an empty tibble to store the results\n",
    "accuracies <- tibble(size = integer(), \n",
    "                     model_string = character(), \n",
    "                     accuracy = numeric())\n",
    "\n",
    "# create a model specification\n",
    "knn_spec <- nearest_neighbor(weight_func = \"rectangular\", \n",
    "                             neighbors = tune()) |>\n",
    "     set_engine(\"kknn\") |>\n",
    "     set_mode(\"classification\")\n",
    "\n",
    "# create a 5-fold cross-validation object\n",
    "user_vfold <- vfold_cv(training, v = 5, strata = UNS)\n",
    "\n",
    "# store the total number of predictors\n",
    "n_total <- length(names)\n",
    "\n",
    "# stores selected predictors\n",
    "selected <- c()\n",
    "\n",
    "# for every size from 1 to the total number of predictors\n",
    "for (i in 1:n_total) {\n",
    "    # for every predictor still not added yet\n",
    "    accs <- list()\n",
    "    models <- list()\n",
    "    for (j in 1:length(names)) {\n",
    "        # create a model string for this combination of predictors\n",
    "        preds_new <- c(selected, names[[j]])\n",
    "        model_string <- paste(\"UNS\", \"~\", paste(preds_new, collapse=\"+\"))\n",
    "\n",
    "        # create a recipe from the model string\n",
    "        user_recipe <- recipe(as.formula(model_string), \n",
    "                                data = training) |>\n",
    "                          step_scale(all_predictors()) |>\n",
    "                          step_center(all_predictors())\n",
    "\n",
    "        # tune the KNN classifier with these predictors, \n",
    "        # and collect the accuracy for the best K\n",
    "        acc <- workflow() |>\n",
    "          add_recipe(user_recipe) |>\n",
    "          add_model(knn_spec) |>\n",
    "          tune_grid(resamples = user_vfold, grid = 10) |>\n",
    "          collect_metrics() |>\n",
    "          filter(.metric == \"accuracy\") |>\n",
    "          summarize(mx = max(mean))\n",
    "        acc <- acc$mx |> unlist()\n",
    "\n",
    "        # add this result to the dataframe\n",
    "        accs[[j]] <- acc\n",
    "        models[[j]] <- model_string\n",
    "    }\n",
    "    jstar <- which.max(unlist(accs))\n",
    "    accuracies <- accuracies |> \n",
    "      add_row(size = i, \n",
    "              model_string = models[[jstar]], \n",
    "              accuracy = accs[[jstar]])\n",
    "    selected <- c(selected, names[[jstar]])\n",
    "    names <- names[-jstar]\n",
    "}\n",
    "accuracies"
   ]
  }
 ],
 "metadata": {
  "kernelspec": {
   "display_name": "R",
   "language": "R",
   "name": "ir"
  },
  "language_info": {
   "codemirror_mode": "r",
   "file_extension": ".r",
   "mimetype": "text/x-r-source",
   "name": "R",
   "pygments_lexer": "r",
   "version": "4.1.3"
  }
 },
 "nbformat": 4,
 "nbformat_minor": 5
}
